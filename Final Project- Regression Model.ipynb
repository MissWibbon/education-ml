{
 "cells": [
  {
   "cell_type": "code",
   "execution_count": 1,
   "metadata": {},
   "outputs": [],
   "source": [
    "%matplotlib inline\n",
    "import matplotlib.pyplot as plt\n",
    "import pandas as pd\n",
    "import numpy as np\n",
    "import seaborn as sns"
   ]
  },
  {
   "cell_type": "code",
   "execution_count": 2,
   "metadata": {},
   "outputs": [
    {
     "name": "stdout",
     "output_type": "stream",
     "text": [
      "<class 'pandas.core.frame.DataFrame'>\n",
      "RangeIndex: 2420 entries, 0 to 2419\n",
      "Data columns (total 21 columns):\n",
      " #   Column          Non-Null Count  Dtype  \n",
      "---  ------          --------------  -----  \n",
      " 0   INSTNM          2420 non-null   object \n",
      " 1   STABBR          2420 non-null   object \n",
      " 2   CITY            2420 non-null   object \n",
      " 3   LATITUDE        2420 non-null   float64\n",
      " 4   LONGITUDE       2420 non-null   float64\n",
      " 5   SCHTYPE         2420 non-null   float64\n",
      " 6   C100_4          2420 non-null   float64\n",
      " 7   TRANS_4         2420 non-null   float64\n",
      " 8   SAT_AVG         2420 non-null   float64\n",
      " 9   ACTCMMID        2420 non-null   float64\n",
      " 10  UGDS            2420 non-null   float64\n",
      " 11  UGDS_WOMEN      2420 non-null   float64\n",
      " 12  UGDS_MEN        2420 non-null   float64\n",
      " 13  UGDS_WHITE      2420 non-null   float64\n",
      " 14  UGDS_BLACK      2420 non-null   float64\n",
      " 15  UGDS_HISP       2420 non-null   float64\n",
      " 16  UGDS_ASIAN      2420 non-null   float64\n",
      " 17  UGDS_AIAN       2420 non-null   float64\n",
      " 18  TUITIONFEE_IN   2420 non-null   float64\n",
      " 19  TUITIONFEE_OUT  2420 non-null   float64\n",
      " 20  COSTT4_A        2420 non-null   float64\n",
      "dtypes: float64(18), object(3)\n",
      "memory usage: 397.2+ KB\n"
     ]
    }
   ],
   "source": [
    "data = pd.read_csv(\"../Resource/Group Project-3/SY2018_2019.csv\")\n",
    "data.info()"
   ]
  },
  {
   "cell_type": "code",
   "execution_count": 3,
   "metadata": {},
   "outputs": [],
   "source": [
    "data_sc= data[[\"INSTNM\",\"SAT_AVG\",\"ACTCMMID\",\"COSTT4_A\",\"TUITIONFEE_OUT\",\"TRANS_4\",\"C100_4\",\"SCHTYPE\",\"UGDS_WHITE\",\"UGDS_BLACK\",\"UGDS_HISP\",\"UGDS_WOMEN\"]]\n",
    "\n",
    "\n",
    "data_sc=data_sc.rename(columns={\"SAT_AVG\":\"Average SAT\",\"ACTCMMID\":\"ACT\",\"COSTT4_A\":\"Average cost\",\"TUITIONFEE_OUT\":\"Out-of-state tuition \",\"C100_4\":\"Completion Rate\",\"SCHTYPE\":\"Private\",\"UGDS_WOMEN\":\"Number of Wome\",\"TRANS_4\":\"Trans Rate\"})\n"
   ]
  },
  {
   "cell_type": "code",
   "execution_count": 4,
   "metadata": {},
   "outputs": [
    {
     "data": {
      "text/html": [
       "<div>\n",
       "<style scoped>\n",
       "    .dataframe tbody tr th:only-of-type {\n",
       "        vertical-align: middle;\n",
       "    }\n",
       "\n",
       "    .dataframe tbody tr th {\n",
       "        vertical-align: top;\n",
       "    }\n",
       "\n",
       "    .dataframe thead th {\n",
       "        text-align: right;\n",
       "    }\n",
       "</style>\n",
       "<table border=\"1\" class=\"dataframe\">\n",
       "  <thead>\n",
       "    <tr style=\"text-align: right;\">\n",
       "      <th></th>\n",
       "      <th>Average SAT</th>\n",
       "      <th>ACT</th>\n",
       "      <th>Average cost</th>\n",
       "      <th>Out-of-state tuition</th>\n",
       "      <th>Trans Rate</th>\n",
       "      <th>Completion Rate</th>\n",
       "      <th>Private</th>\n",
       "      <th>UGDS_WHITE</th>\n",
       "      <th>UGDS_BLACK</th>\n",
       "      <th>UGDS_HISP</th>\n",
       "      <th>Number of Wome</th>\n",
       "    </tr>\n",
       "  </thead>\n",
       "  <tbody>\n",
       "    <tr>\n",
       "      <th>count</th>\n",
       "      <td>2420.00000</td>\n",
       "      <td>2420.000000</td>\n",
       "      <td>2420.000000</td>\n",
       "      <td>2420.000000</td>\n",
       "      <td>2420.000000</td>\n",
       "      <td>2420.000000</td>\n",
       "      <td>2420.000000</td>\n",
       "      <td>2420.000000</td>\n",
       "      <td>2420.000000</td>\n",
       "      <td>2420.000000</td>\n",
       "      <td>2420.000000</td>\n",
       "    </tr>\n",
       "    <tr>\n",
       "      <th>mean</th>\n",
       "      <td>1141.36157</td>\n",
       "      <td>23.614876</td>\n",
       "      <td>36731.098760</td>\n",
       "      <td>28781.963223</td>\n",
       "      <td>0.136532</td>\n",
       "      <td>0.418761</td>\n",
       "      <td>1.616529</td>\n",
       "      <td>0.591160</td>\n",
       "      <td>0.128761</td>\n",
       "      <td>0.109327</td>\n",
       "      <td>0.562352</td>\n",
       "    </tr>\n",
       "    <tr>\n",
       "      <th>std</th>\n",
       "      <td>126.61318</td>\n",
       "      <td>3.662885</td>\n",
       "      <td>15379.579562</td>\n",
       "      <td>11464.788302</td>\n",
       "      <td>0.153025</td>\n",
       "      <td>0.206750</td>\n",
       "      <td>0.493085</td>\n",
       "      <td>0.211447</td>\n",
       "      <td>0.172087</td>\n",
       "      <td>0.114070</td>\n",
       "      <td>0.123886</td>\n",
       "    </tr>\n",
       "    <tr>\n",
       "      <th>min</th>\n",
       "      <td>564.00000</td>\n",
       "      <td>11.000000</td>\n",
       "      <td>6646.000000</td>\n",
       "      <td>1020.000000</td>\n",
       "      <td>0.000000</td>\n",
       "      <td>0.000000</td>\n",
       "      <td>1.000000</td>\n",
       "      <td>0.000000</td>\n",
       "      <td>0.000000</td>\n",
       "      <td>0.000000</td>\n",
       "      <td>0.000000</td>\n",
       "    </tr>\n",
       "    <tr>\n",
       "      <th>25%</th>\n",
       "      <td>1056.75000</td>\n",
       "      <td>21.000000</td>\n",
       "      <td>23104.500000</td>\n",
       "      <td>19649.250000</td>\n",
       "      <td>0.000000</td>\n",
       "      <td>0.256175</td>\n",
       "      <td>1.000000</td>\n",
       "      <td>0.487250</td>\n",
       "      <td>0.041500</td>\n",
       "      <td>0.041600</td>\n",
       "      <td>0.505200</td>\n",
       "    </tr>\n",
       "    <tr>\n",
       "      <th>50%</th>\n",
       "      <td>1123.00000</td>\n",
       "      <td>23.000000</td>\n",
       "      <td>35304.000000</td>\n",
       "      <td>27604.000000</td>\n",
       "      <td>0.063950</td>\n",
       "      <td>0.396900</td>\n",
       "      <td>2.000000</td>\n",
       "      <td>0.636950</td>\n",
       "      <td>0.073800</td>\n",
       "      <td>0.072450</td>\n",
       "      <td>0.561050</td>\n",
       "    </tr>\n",
       "    <tr>\n",
       "      <th>75%</th>\n",
       "      <td>1200.00000</td>\n",
       "      <td>25.000000</td>\n",
       "      <td>47190.250000</td>\n",
       "      <td>35801.000000</td>\n",
       "      <td>0.271700</td>\n",
       "      <td>0.564750</td>\n",
       "      <td>2.000000</td>\n",
       "      <td>0.748325</td>\n",
       "      <td>0.139425</td>\n",
       "      <td>0.128150</td>\n",
       "      <td>0.614750</td>\n",
       "    </tr>\n",
       "    <tr>\n",
       "      <th>max</th>\n",
       "      <td>1566.00000</td>\n",
       "      <td>36.000000</td>\n",
       "      <td>75735.000000</td>\n",
       "      <td>59430.000000</td>\n",
       "      <td>0.750500</td>\n",
       "      <td>1.000000</td>\n",
       "      <td>3.000000</td>\n",
       "      <td>0.942500</td>\n",
       "      <td>0.978200</td>\n",
       "      <td>0.950600</td>\n",
       "      <td>1.000000</td>\n",
       "    </tr>\n",
       "  </tbody>\n",
       "</table>\n",
       "</div>"
      ],
      "text/plain": [
       "       Average SAT          ACT  Average cost  Out-of-state tuition   \\\n",
       "count   2420.00000  2420.000000   2420.000000            2420.000000   \n",
       "mean    1141.36157    23.614876  36731.098760           28781.963223   \n",
       "std      126.61318     3.662885  15379.579562           11464.788302   \n",
       "min      564.00000    11.000000   6646.000000            1020.000000   \n",
       "25%     1056.75000    21.000000  23104.500000           19649.250000   \n",
       "50%     1123.00000    23.000000  35304.000000           27604.000000   \n",
       "75%     1200.00000    25.000000  47190.250000           35801.000000   \n",
       "max     1566.00000    36.000000  75735.000000           59430.000000   \n",
       "\n",
       "        Trans Rate  Completion Rate      Private   UGDS_WHITE   UGDS_BLACK  \\\n",
       "count  2420.000000      2420.000000  2420.000000  2420.000000  2420.000000   \n",
       "mean      0.136532         0.418761     1.616529     0.591160     0.128761   \n",
       "std       0.153025         0.206750     0.493085     0.211447     0.172087   \n",
       "min       0.000000         0.000000     1.000000     0.000000     0.000000   \n",
       "25%       0.000000         0.256175     1.000000     0.487250     0.041500   \n",
       "50%       0.063950         0.396900     2.000000     0.636950     0.073800   \n",
       "75%       0.271700         0.564750     2.000000     0.748325     0.139425   \n",
       "max       0.750500         1.000000     3.000000     0.942500     0.978200   \n",
       "\n",
       "         UGDS_HISP  Number of Wome  \n",
       "count  2420.000000     2420.000000  \n",
       "mean      0.109327        0.562352  \n",
       "std       0.114070        0.123886  \n",
       "min       0.000000        0.000000  \n",
       "25%       0.041600        0.505200  \n",
       "50%       0.072450        0.561050  \n",
       "75%       0.128150        0.614750  \n",
       "max       0.950600        1.000000  "
      ]
     },
     "execution_count": 4,
     "metadata": {},
     "output_type": "execute_result"
    }
   ],
   "source": [
    "data_sc.describe()"
   ]
  },
  {
   "cell_type": "code",
   "execution_count": 5,
   "metadata": {},
   "outputs": [],
   "source": [
    "data_sc=data_sc.set_index(data_sc.columns[0])"
   ]
  },
  {
   "cell_type": "code",
   "execution_count": 6,
   "metadata": {},
   "outputs": [
    {
     "data": {
      "text/html": [
       "<div>\n",
       "<style scoped>\n",
       "    .dataframe tbody tr th:only-of-type {\n",
       "        vertical-align: middle;\n",
       "    }\n",
       "\n",
       "    .dataframe tbody tr th {\n",
       "        vertical-align: top;\n",
       "    }\n",
       "\n",
       "    .dataframe thead th {\n",
       "        text-align: right;\n",
       "    }\n",
       "</style>\n",
       "<table border=\"1\" class=\"dataframe\">\n",
       "  <thead>\n",
       "    <tr style=\"text-align: right;\">\n",
       "      <th></th>\n",
       "      <th>Average SAT</th>\n",
       "      <th>ACT</th>\n",
       "      <th>Average cost</th>\n",
       "      <th>Out-of-state tuition</th>\n",
       "      <th>Trans Rate</th>\n",
       "      <th>Completion Rate</th>\n",
       "      <th>Private</th>\n",
       "      <th>UGDS_WHITE</th>\n",
       "      <th>UGDS_BLACK</th>\n",
       "      <th>UGDS_HISP</th>\n",
       "      <th>Number of Wome</th>\n",
       "    </tr>\n",
       "    <tr>\n",
       "      <th>INSTNM</th>\n",
       "      <th></th>\n",
       "      <th></th>\n",
       "      <th></th>\n",
       "      <th></th>\n",
       "      <th></th>\n",
       "      <th></th>\n",
       "      <th></th>\n",
       "      <th></th>\n",
       "      <th></th>\n",
       "      <th></th>\n",
       "      <th></th>\n",
       "    </tr>\n",
       "  </thead>\n",
       "  <tbody>\n",
       "    <tr>\n",
       "      <th>Alabama A &amp; M University</th>\n",
       "      <td>957.0</td>\n",
       "      <td>18.0</td>\n",
       "      <td>22489.0</td>\n",
       "      <td>18354.0</td>\n",
       "      <td>0.4206</td>\n",
       "      <td>0.0556</td>\n",
       "      <td>1.0</td>\n",
       "      <td>0.0186</td>\n",
       "      <td>0.9120</td>\n",
       "      <td>0.0088</td>\n",
       "      <td>0.5924</td>\n",
       "    </tr>\n",
       "    <tr>\n",
       "      <th>University of Alabama at Birmingham</th>\n",
       "      <td>1220.0</td>\n",
       "      <td>25.0</td>\n",
       "      <td>24347.0</td>\n",
       "      <td>19704.0</td>\n",
       "      <td>0.2234</td>\n",
       "      <td>0.3462</td>\n",
       "      <td>1.0</td>\n",
       "      <td>0.5717</td>\n",
       "      <td>0.2553</td>\n",
       "      <td>0.0334</td>\n",
       "      <td>0.6070</td>\n",
       "    </tr>\n",
       "    <tr>\n",
       "      <th>University of Alabama in Huntsville</th>\n",
       "      <td>1314.0</td>\n",
       "      <td>28.0</td>\n",
       "      <td>23441.0</td>\n",
       "      <td>22362.0</td>\n",
       "      <td>0.2959</td>\n",
       "      <td>0.2195</td>\n",
       "      <td>1.0</td>\n",
       "      <td>0.7167</td>\n",
       "      <td>0.0969</td>\n",
       "      <td>0.0528</td>\n",
       "      <td>0.4204</td>\n",
       "    </tr>\n",
       "    <tr>\n",
       "      <th>Alabama State University</th>\n",
       "      <td>972.0</td>\n",
       "      <td>18.0</td>\n",
       "      <td>21476.0</td>\n",
       "      <td>19396.0</td>\n",
       "      <td>0.3691</td>\n",
       "      <td>0.0975</td>\n",
       "      <td>1.0</td>\n",
       "      <td>0.0167</td>\n",
       "      <td>0.9352</td>\n",
       "      <td>0.0095</td>\n",
       "      <td>0.6290</td>\n",
       "    </tr>\n",
       "    <tr>\n",
       "      <th>The University of Alabama</th>\n",
       "      <td>1252.0</td>\n",
       "      <td>27.0</td>\n",
       "      <td>29424.0</td>\n",
       "      <td>29230.0</td>\n",
       "      <td>0.1877</td>\n",
       "      <td>0.5049</td>\n",
       "      <td>1.0</td>\n",
       "      <td>0.7774</td>\n",
       "      <td>0.0999</td>\n",
       "      <td>0.0499</td>\n",
       "      <td>0.5557</td>\n",
       "    </tr>\n",
       "  </tbody>\n",
       "</table>\n",
       "</div>"
      ],
      "text/plain": [
       "                                     Average SAT   ACT  Average cost  \\\n",
       "INSTNM                                                                 \n",
       "Alabama A & M University                   957.0  18.0       22489.0   \n",
       "University of Alabama at Birmingham       1220.0  25.0       24347.0   \n",
       "University of Alabama in Huntsville       1314.0  28.0       23441.0   \n",
       "Alabama State University                   972.0  18.0       21476.0   \n",
       "The University of Alabama                 1252.0  27.0       29424.0   \n",
       "\n",
       "                                     Out-of-state tuition   Trans Rate  \\\n",
       "INSTNM                                                                   \n",
       "Alabama A & M University                           18354.0      0.4206   \n",
       "University of Alabama at Birmingham                19704.0      0.2234   \n",
       "University of Alabama in Huntsville                22362.0      0.2959   \n",
       "Alabama State University                           19396.0      0.3691   \n",
       "The University of Alabama                          29230.0      0.1877   \n",
       "\n",
       "                                     Completion Rate  Private  UGDS_WHITE  \\\n",
       "INSTNM                                                                      \n",
       "Alabama A & M University                      0.0556      1.0      0.0186   \n",
       "University of Alabama at Birmingham           0.3462      1.0      0.5717   \n",
       "University of Alabama in Huntsville           0.2195      1.0      0.7167   \n",
       "Alabama State University                      0.0975      1.0      0.0167   \n",
       "The University of Alabama                     0.5049      1.0      0.7774   \n",
       "\n",
       "                                     UGDS_BLACK  UGDS_HISP  Number of Wome  \n",
       "INSTNM                                                                      \n",
       "Alabama A & M University                 0.9120     0.0088          0.5924  \n",
       "University of Alabama at Birmingham      0.2553     0.0334          0.6070  \n",
       "University of Alabama in Huntsville      0.0969     0.0528          0.4204  \n",
       "Alabama State University                 0.9352     0.0095          0.6290  \n",
       "The University of Alabama                0.0999     0.0499          0.5557  "
      ]
     },
     "execution_count": 6,
     "metadata": {},
     "output_type": "execute_result"
    }
   ],
   "source": [
    "data_sc.head()"
   ]
  },
  {
   "cell_type": "code",
   "execution_count": 7,
   "metadata": {},
   "outputs": [],
   "source": [
    "X = data_sc.drop(\"Completion Rate\",axis=1)\n",
    "y = data_sc[\"Completion Rate\"]"
   ]
  },
  {
   "cell_type": "code",
   "execution_count": 8,
   "metadata": {},
   "outputs": [],
   "source": [
    "from sklearn.model_selection import train_test_split\n",
    "\n",
    "X_train, X_test, y_train, y_test = train_test_split(X, y, random_state=42)"
   ]
  },
  {
   "cell_type": "markdown",
   "metadata": {},
   "source": [
    "# Scale the data"
   ]
  },
  {
   "cell_type": "code",
   "execution_count": 9,
   "metadata": {},
   "outputs": [],
   "source": [
    "from sklearn.preprocessing import StandardScaler\n",
    "X_scaler = StandardScaler().fit(X_train)\n",
    "X_train_scaled = X_scaler.transform(X_train)\n",
    "X_test_scaled = X_scaler.transform(X_test)"
   ]
  },
  {
   "cell_type": "markdown",
   "metadata": {},
   "source": [
    "# Linear Regression"
   ]
  },
  {
   "cell_type": "code",
   "execution_count": 10,
   "metadata": {},
   "outputs": [
    {
     "name": "stdout",
     "output_type": "stream",
     "text": [
      "coefficient: [ 0.01889205  0.07906869  0.05742177  0.03626976 -0.01154549  0.00461055\n",
      "  0.04907639  0.0217414   0.01612768  0.01578851]\n"
     ]
    }
   ],
   "source": [
    "from sklearn.linear_model import LinearRegression\n",
    "model = LinearRegression()\n",
    "\n",
    "# Fitting our model with all of our features in X\n",
    "model.fit(X_train_scaled, y_train)\n",
    "\n",
    "model.coef_\n",
    "print(f\"coefficient: {model.coef_}\")\n"
   ]
  },
  {
   "cell_type": "code",
   "execution_count": 11,
   "metadata": {},
   "outputs": [
    {
     "data": {
      "text/plain": [
       "[(0.07906869007595921, 'ACT'),\n",
       " (0.057421771556865606, 'Average cost'),\n",
       " (0.04907638985937013, 'Private'),\n",
       " (0.03626976307466995, 'Out-of-state tuition '),\n",
       " (0.021741400483048158, 'UGDS_WHITE'),\n",
       " (0.018892054846023056, 'Average SAT'),\n",
       " (0.016127684574564937, 'UGDS_BLACK'),\n",
       " (0.015788512422707054, 'UGDS_HISP'),\n",
       " (0.004610554999006876, 'Completion Rate'),\n",
       " (-0.01154549288929923, 'Trans Rate')]"
      ]
     },
     "execution_count": 11,
     "metadata": {},
     "output_type": "execute_result"
    }
   ],
   "source": [
    "feature_names=list(data_sc.columns)\n",
    "sorted(zip(model.coef_, feature_names), reverse=True)"
   ]
  },
  {
   "cell_type": "code",
   "execution_count": 12,
   "metadata": {},
   "outputs": [
    {
     "name": "stdout",
     "output_type": "stream",
     "text": [
      "R2 Score: 0.7499846859602861\n"
     ]
    }
   ],
   "source": [
    "score = model.score(X_test_scaled, y_test)\n",
    "print(f\"R2 Score: {score}\")"
   ]
  },
  {
   "cell_type": "markdown",
   "metadata": {},
   "source": [
    "# Ridge regression\n",
    "#It is implemented for analyzing numerous regression data. When multicollinearity occurs, least-square calculations get unbiased"
   ]
  },
  {
   "cell_type": "code",
   "execution_count": 13,
   "metadata": {},
   "outputs": [
    {
     "name": "stdout",
     "output_type": "stream",
     "text": [
      "coefficient: [ 0.01958027  0.07830532  0.05725234  0.03638141 -0.01154645  0.00467624\n",
      "  0.04885899  0.0215416   0.01597605  0.01578272]\n"
     ]
    }
   ],
   "source": [
    "from sklearn.linear_model import Ridge\n",
    "ridge = Ridge(alpha=1.0)\n",
    "ridge.fit(X_train_scaled, y_train)\n",
    "coef_ridge = ridge.coef_\n",
    "print(f\"coefficient: {coef_ridge}\")"
   ]
  },
  {
   "cell_type": "code",
   "execution_count": 14,
   "metadata": {},
   "outputs": [
    {
     "data": {
      "text/plain": [
       "[(0.07830532329204387, 'ACT'),\n",
       " (0.057252341319843164, 'Average cost'),\n",
       " (0.048858989039002515, 'Private'),\n",
       " (0.036381412121722995, 'Out-of-state tuition '),\n",
       " (0.021541595870538038, 'UGDS_WHITE'),\n",
       " (0.019580268454132566, 'Average SAT'),\n",
       " (0.015976052846060487, 'UGDS_BLACK'),\n",
       " (0.015782719988945152, 'UGDS_HISP'),\n",
       " (0.004676240363912709, 'Completion Rate'),\n",
       " (-0.011546452545525047, 'Trans Rate')]"
      ]
     },
     "execution_count": 14,
     "metadata": {},
     "output_type": "execute_result"
    }
   ],
   "source": [
    "sorted(zip(coef_ridge, feature_names), reverse=True)"
   ]
  },
  {
   "cell_type": "code",
   "execution_count": 15,
   "metadata": {},
   "outputs": [
    {
     "name": "stdout",
     "output_type": "stream",
     "text": [
      "R2 Score: 0.750034991287285\n"
     ]
    }
   ],
   "source": [
    "score = ridge.score(X_test_scaled, y_test)\n",
    "print(f\"R2 Score: {score}\")"
   ]
  },
  {
   "cell_type": "code",
   "execution_count": 16,
   "metadata": {},
   "outputs": [],
   "source": [
    "# x = np.linspace(X.min(), X.max(), 10)\n",
    "\n",
    "# coef_ = ridge.coef_ * x + ridge.intercept_\n",
    "# plt.plot(x, coef_, 'g-', label=\"ridge regression\")"
   ]
  },
  {
   "cell_type": "markdown",
   "metadata": {},
   "source": [
    "# Gradient Boosting Regression"
   ]
  },
  {
   "cell_type": "code",
   "execution_count": 17,
   "metadata": {},
   "outputs": [],
   "source": [
    "from sklearn import ensemble\n",
    "from sklearn.inspection import permutation_importance\n",
    "from sklearn.metrics import mean_squared_error"
   ]
  },
  {
   "cell_type": "code",
   "execution_count": 18,
   "metadata": {},
   "outputs": [],
   "source": [
    "params = {'n_estimators': 500,\n",
    "          'max_depth': 4,\n",
    "          'min_samples_split': 5,\n",
    "          'learning_rate': 0.01,\n",
    "          'loss': 'ls'}"
   ]
  },
  {
   "cell_type": "code",
   "execution_count": 19,
   "metadata": {},
   "outputs": [],
   "source": [
    "reg = ensemble.GradientBoostingRegressor(**params)"
   ]
  },
  {
   "cell_type": "code",
   "execution_count": 20,
   "metadata": {},
   "outputs": [
    {
     "data": {
      "text/plain": [
       "GradientBoostingRegressor(alpha=0.9, ccp_alpha=0.0, criterion='friedman_mse',\n",
       "                          init=None, learning_rate=0.01, loss='ls', max_depth=4,\n",
       "                          max_features=None, max_leaf_nodes=None,\n",
       "                          min_impurity_decrease=0.0, min_impurity_split=None,\n",
       "                          min_samples_leaf=1, min_samples_split=5,\n",
       "                          min_weight_fraction_leaf=0.0, n_estimators=500,\n",
       "                          n_iter_no_change=None, presort='deprecated',\n",
       "                          random_state=None, subsample=1.0, tol=0.0001,\n",
       "                          validation_fraction=0.1, verbose=0, warm_start=False)"
      ]
     },
     "execution_count": 20,
     "metadata": {},
     "output_type": "execute_result"
    }
   ],
   "source": [
    "reg.fit(X_train_scaled, y_train)"
   ]
  },
  {
   "cell_type": "code",
   "execution_count": 21,
   "metadata": {
    "scrolled": true
   },
   "outputs": [
    {
     "name": "stdout",
     "output_type": "stream",
     "text": [
      "The mean squared error (MSE) on test set: 0.008615966614567268\n"
     ]
    }
   ],
   "source": [
    "mse = mean_squared_error(y_test, reg.predict(X_test_scaled))\n",
    "print(f'The mean squared error (MSE) on test set: {mse}')"
   ]
  },
  {
   "cell_type": "code",
   "execution_count": 22,
   "metadata": {},
   "outputs": [
    {
     "name": "stdout",
     "output_type": "stream",
     "text": [
      "R2 Score: 0.750034991287285\n"
     ]
    }
   ],
   "source": [
    "reg.score(X_test_scaled,y_test)\n",
    "print(f\"R2 Score: {score}\")"
   ]
  },
  {
   "cell_type": "code",
   "execution_count": 23,
   "metadata": {},
   "outputs": [],
   "source": [
    "gbs_feature_importance=reg.feature_importances_"
   ]
  },
  {
   "cell_type": "code",
   "execution_count": 24,
   "metadata": {},
   "outputs": [],
   "source": [
    "feature_names=X.columns"
   ]
  },
  {
   "cell_type": "code",
   "execution_count": 25,
   "metadata": {
    "scrolled": true
   },
   "outputs": [
    {
     "data": {
      "text/plain": [
       "Text(0.5, 1.0, 'Gradient Boosting Regression Feature Importance (MDI)')"
      ]
     },
     "execution_count": 25,
     "metadata": {},
     "output_type": "execute_result"
    },
    {
     "data": {
      "image/png": "[encoded data removed]",
      "text/plain": [
       "<Figure size 864x432 with 1 Axes>"
      ]
     },
     "metadata": {
      "needs_background": "light"
     },
     "output_type": "display_data"
    }
   ],
   "source": [
    "gbs_sorted_idx = np.argsort(gbs_feature_importance)\n",
    "pos = np.arange(gbs_sorted_idx.shape[0]) + .5\n",
    "fig = plt.figure(figsize=(12, 6))\n",
    "plt.barh(pos, gbs_feature_importance[gbs_sorted_idx], align='center')\n",
    "plt.yticks(pos, np.array(feature_names)[gbs_sorted_idx])\n",
    "plt.title('Gradient Boosting Regression Feature Importance (MDI)')"
   ]
  },
  {
   "cell_type": "markdown",
   "metadata": {},
   "source": [
    "# Pipeline"
   ]
  },
  {
   "cell_type": "code",
   "execution_count": null,
   "metadata": {
    "scrolled": true
   },
   "outputs": [],
   "source": [
    "data.head().T"
   ]
  },
  {
   "cell_type": "code",
   "execution_count": null,
   "metadata": {},
   "outputs": [],
   "source": [
    "X_ = data.drop(columns=[\"C100_4\"],axis=1)\n",
    "y_ = data[\"C100_4\"]"
   ]
  },
  {
   "cell_type": "code",
   "execution_count": null,
   "metadata": {},
   "outputs": [],
   "source": [
    "names = X_.columns.to_list()"
   ]
  },
  {
   "cell_type": "code",
   "execution_count": null,
   "metadata": {},
   "outputs": [],
   "source": [
    "cat_col = X_.select_dtypes(include=\"object\").columns.to_list()\n",
    "num_col = X_.select_dtypes(exclude=\"object\").columns.to_list()\n",
    "cat_col,num_col"
   ]
  },
  {
   "cell_type": "code",
   "execution_count": null,
   "metadata": {
    "scrolled": true
   },
   "outputs": [],
   "source": [
    "X__train, X__test, y__train, y__test = train_test_split(X_, y_, train_size=.9, random_state=42)\n",
    "len(X__train)"
   ]
  },
  {
   "cell_type": "code",
   "execution_count": null,
   "metadata": {},
   "outputs": [],
   "source": [
    "params = {'n_estimators': 10000,\n",
    "          'max_depth': 6,\n",
    "          'min_samples_split': 5,\n",
    "          'learning_rate': 0.001,\n",
    "          'loss': 'ls'}"
   ]
  },
  {
   "cell_type": "code",
   "execution_count": null,
   "metadata": {},
   "outputs": [],
   "source": [
    "model = ensemble.GradientBoostingRegressor(**params)\n"
   ]
  },
  {
   "cell_type": "code",
   "execution_count": null,
   "metadata": {},
   "outputs": [],
   "source": [
    "from sklearn.pipeline import Pipeline\n",
    "from sklearn.impute import SimpleImputer\n",
    "from sklearn.preprocessing import OneHotEncoder\n",
    "from sklearn.compose import ColumnTransformer\n",
    "from sklearn.feature_selection import SelectFromModel\n",
    "from sklearn.model_selection import GridSearchCV"
   ]
  },
  {
   "cell_type": "code",
   "execution_count": null,
   "metadata": {},
   "outputs": [],
   "source": [
    "num_pipe = Pipeline([\n",
    "    (\"imputer\",SimpleImputer(strategy=\"median\")),\n",
    "    (\"Scaler\",MinMaxScaler())\n",
    "])"
   ]
  },
  {
   "cell_type": "code",
   "execution_count": null,
   "metadata": {},
   "outputs": [],
   "source": [
    "cat_pipe = Pipeline([\n",
    "    (\"imputer\",SimpleImputer(strategy=\"constant\",fill_value=\"missing\")),\n",
    "    (\"one_hot\",OneHotEncoder(handle_unknown=\"ignore\"))\n",
    "])"
   ]
  },
  {
   "cell_type": "code",
   "execution_count": null,
   "metadata": {},
   "outputs": [],
   "source": [
    "pre_processing = ColumnTransformer([\n",
    "    (\"cat\",cat_pipe,cat_col),\n",
    "    (\"num\",num_pipe,num_col)\n",
    "])"
   ]
  },
  {
   "cell_type": "code",
   "execution_count": null,
   "metadata": {},
   "outputs": [],
   "source": [
    "pipe_model = Pipeline([\n",
    "    (\"processing\",pre_processing),\n",
    "    (\"feature_selection\",SelectFromModel(model)),\n",
    "    (\"Regressor\",model)\n",
    "])"
   ]
  },
  {
   "cell_type": "code",
   "execution_count": null,
   "metadata": {},
   "outputs": [],
   "source": [
    "param_grid = {'Regressor__n_estimators':[ 500,1000,10000],\n",
    "              'Regressor__max_depth': [4,6,8],\n",
    "              'Regressor__min_samples_split': [3,5,7],\n",
    "              'Regressor__learning_rate': [.1,.001],\n",
    "              'Regressor__loss': ['ls', 'lad', 'huber', 'quantile']}"
   ]
  },
  {
   "cell_type": "code",
   "execution_count": null,
   "metadata": {},
   "outputs": [],
   "source": [
    "search = GridSearchCV(pipe_model, param_grid, n_jobs=4,verbose=2)"
   ]
  },
  {
   "cell_type": "code",
   "execution_count": null,
   "metadata": {},
   "outputs": [],
   "source": [
    "--search.fit(X__train,y__train)"
   ]
  },
  {
   "cell_type": "code",
   "execution_count": null,
   "metadata": {},
   "outputs": [],
   "source": [
    "search.best_params_"
   ]
  },
  {
   "cell_type": "code",
   "execution_count": null,
   "metadata": {},
   "outputs": [],
   "source": [
    "search.score(X__train,y__train),pipe_model.score(X__test,y__test)"
   ]
  },
  {
   "cell_type": "code",
   "execution_count": null,
   "metadata": {},
   "outputs": [],
   "source": [
    "pipe_model.fit(X__train,y__train)"
   ]
  },
  {
   "cell_type": "code",
   "execution_count": null,
   "metadata": {},
   "outputs": [],
   "source": [
    "pipe_model.score(X__train,y__train),pipe_model.score(X__test,y__test)"
   ]
  },
  {
   "cell_type": "code",
   "execution_count": null,
   "metadata": {},
   "outputs": [],
   "source": []
  }
 ],
 "metadata": {
  "kernelspec": {
   "display_name": "Python 3.8.2 64-bit",
   "language": "python",
   "name": "python38264bit9ab2b7d9a9c147a89336be43ec08346b"
  },
  "language_info": {
   "codemirror_mode": {
    "name": "ipython",
    "version": 3
   },
   "file_extension": ".py",
   "mimetype": "text/x-python",
   "name": "python",
   "nbconvert_exporter": "python",
   "pygments_lexer": "ipython3",
   "version": "3.8.2"
  }
 },
 "nbformat": 4,
 "nbformat_minor": 4
}
